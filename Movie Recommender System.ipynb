{
 "cells": [
  {
   "cell_type": "code",
   "execution_count": 1,
   "id": "df7bb2b6-9cfe-4e02-8cc9-c69b5a18d825",
   "metadata": {},
   "outputs": [],
   "source": [
    "import numpy as np\n",
    "import pandas as pd"
   ]
  },
  {
   "cell_type": "markdown",
   "id": "e1538b4c-1312-4b00-900e-a8cc01037d74",
   "metadata": {},
   "source": [
    "This cell imports two essential libraries, `numpy` and `pandas`, which are commonly used for data manipulation and analysis in Python. `numpy` is used for handling numerical operations, while `pandas` simplifies data manipulation, such as reading and organizing the movie dataset.\n"
   ]
  },
  {
   "cell_type": "code",
   "execution_count": 2,
   "id": "81dfcf26-697a-4b86-8711-c023e6a9a60a",
   "metadata": {},
   "outputs": [],
   "source": [
    "movies=pd.read_csv('tmdb_5000_movies.csv')\n",
    "credits=pd.read_csv('tmdb_5000_credits.csv')"
   ]
  },
  {
   "cell_type": "markdown",
   "id": "b4291178-c0bf-4fa9-bee2-2141e2873443",
   "metadata": {},
   "source": [
    "This cell reads in two datasets, `tmdb_5000_movies.csv` and `tmdb_5000_credits.csv`, which contain information on movies and their associated credits (e.g., cast and crew). These datasets provide the foundation for building the recommendation system."
   ]
  },
  {
   "cell_type": "code",
   "execution_count": 3,
   "id": "c7433f83-015a-4472-bbcd-de0354aeef0f",
   "metadata": {},
   "outputs": [
    {
     "data": {
      "text/html": [
       "<div>\n",
       "<style scoped>\n",
       "    .dataframe tbody tr th:only-of-type {\n",
       "        vertical-align: middle;\n",
       "    }\n",
       "\n",
       "    .dataframe tbody tr th {\n",
       "        vertical-align: top;\n",
       "    }\n",
       "\n",
       "    .dataframe thead th {\n",
       "        text-align: right;\n",
       "    }\n",
       "</style>\n",
       "<table border=\"1\" class=\"dataframe\">\n",
       "  <thead>\n",
       "    <tr style=\"text-align: right;\">\n",
       "      <th></th>\n",
       "      <th>budget</th>\n",
       "      <th>genres</th>\n",
       "      <th>homepage</th>\n",
       "      <th>id</th>\n",
       "      <th>keywords</th>\n",
       "      <th>original_language</th>\n",
       "      <th>original_title</th>\n",
       "      <th>overview</th>\n",
       "      <th>popularity</th>\n",
       "      <th>production_companies</th>\n",
       "      <th>production_countries</th>\n",
       "      <th>release_date</th>\n",
       "      <th>revenue</th>\n",
       "      <th>runtime</th>\n",
       "      <th>spoken_languages</th>\n",
       "      <th>status</th>\n",
       "      <th>tagline</th>\n",
       "      <th>title</th>\n",
       "      <th>vote_average</th>\n",
       "      <th>vote_count</th>\n",
       "    </tr>\n",
       "  </thead>\n",
       "  <tbody>\n",
       "    <tr>\n",
       "      <th>0</th>\n",
       "      <td>237000000</td>\n",
       "      <td>[{\"id\": 28, \"name\": \"Action\"}, {\"id\": 12, \"nam...</td>\n",
       "      <td>http://www.avatarmovie.com/</td>\n",
       "      <td>19995</td>\n",
       "      <td>[{\"id\": 1463, \"name\": \"culture clash\"}, {\"id\":...</td>\n",
       "      <td>en</td>\n",
       "      <td>Avatar</td>\n",
       "      <td>In the 22nd century, a paraplegic Marine is di...</td>\n",
       "      <td>150.437577</td>\n",
       "      <td>[{\"name\": \"Ingenious Film Partners\", \"id\": 289...</td>\n",
       "      <td>[{\"iso_3166_1\": \"US\", \"name\": \"United States o...</td>\n",
       "      <td>2009-12-10</td>\n",
       "      <td>2787965087</td>\n",
       "      <td>162.0</td>\n",
       "      <td>[{\"iso_639_1\": \"en\", \"name\": \"English\"}, {\"iso...</td>\n",
       "      <td>Released</td>\n",
       "      <td>Enter the World of Pandora.</td>\n",
       "      <td>Avatar</td>\n",
       "      <td>7.2</td>\n",
       "      <td>11800</td>\n",
       "    </tr>\n",
       "  </tbody>\n",
       "</table>\n",
       "</div>"
      ],
      "text/plain": [
       "      budget                                             genres  \\\n",
       "0  237000000  [{\"id\": 28, \"name\": \"Action\"}, {\"id\": 12, \"nam...   \n",
       "\n",
       "                      homepage     id  \\\n",
       "0  http://www.avatarmovie.com/  19995   \n",
       "\n",
       "                                            keywords original_language  \\\n",
       "0  [{\"id\": 1463, \"name\": \"culture clash\"}, {\"id\":...                en   \n",
       "\n",
       "  original_title                                           overview  \\\n",
       "0         Avatar  In the 22nd century, a paraplegic Marine is di...   \n",
       "\n",
       "   popularity                               production_companies  \\\n",
       "0  150.437577  [{\"name\": \"Ingenious Film Partners\", \"id\": 289...   \n",
       "\n",
       "                                production_countries release_date     revenue  \\\n",
       "0  [{\"iso_3166_1\": \"US\", \"name\": \"United States o...   2009-12-10  2787965087   \n",
       "\n",
       "   runtime                                   spoken_languages    status  \\\n",
       "0    162.0  [{\"iso_639_1\": \"en\", \"name\": \"English\"}, {\"iso...  Released   \n",
       "\n",
       "                       tagline   title  vote_average  vote_count  \n",
       "0  Enter the World of Pandora.  Avatar           7.2       11800  "
      ]
     },
     "execution_count": 3,
     "metadata": {},
     "output_type": "execute_result"
    }
   ],
   "source": [
    "movies.head(1)"
   ]
  },
  {
   "cell_type": "markdown",
   "id": "9e124da3-e607-47ed-a305-7cd89880cdb5",
   "metadata": {},
   "source": [
    "Head of the movies dataframe."
   ]
  },
  {
   "cell_type": "code",
   "execution_count": 4,
   "id": "98f33af9-b962-4930-89ff-918acabd88f1",
   "metadata": {},
   "outputs": [
    {
     "data": {
      "text/html": [
       "<div>\n",
       "<style scoped>\n",
       "    .dataframe tbody tr th:only-of-type {\n",
       "        vertical-align: middle;\n",
       "    }\n",
       "\n",
       "    .dataframe tbody tr th {\n",
       "        vertical-align: top;\n",
       "    }\n",
       "\n",
       "    .dataframe thead th {\n",
       "        text-align: right;\n",
       "    }\n",
       "</style>\n",
       "<table border=\"1\" class=\"dataframe\">\n",
       "  <thead>\n",
       "    <tr style=\"text-align: right;\">\n",
       "      <th></th>\n",
       "      <th>movie_id</th>\n",
       "      <th>title</th>\n",
       "      <th>cast</th>\n",
       "      <th>crew</th>\n",
       "    </tr>\n",
       "  </thead>\n",
       "  <tbody>\n",
       "    <tr>\n",
       "      <th>0</th>\n",
       "      <td>19995</td>\n",
       "      <td>Avatar</td>\n",
       "      <td>[{\"cast_id\": 242, \"character\": \"Jake Sully\", \"...</td>\n",
       "      <td>[{\"credit_id\": \"52fe48009251416c750aca23\", \"de...</td>\n",
       "    </tr>\n",
       "  </tbody>\n",
       "</table>\n",
       "</div>"
      ],
      "text/plain": [
       "   movie_id   title                                               cast  \\\n",
       "0     19995  Avatar  [{\"cast_id\": 242, \"character\": \"Jake Sully\", \"...   \n",
       "\n",
       "                                                crew  \n",
       "0  [{\"credit_id\": \"52fe48009251416c750aca23\", \"de...  "
      ]
     },
     "execution_count": 4,
     "metadata": {},
     "output_type": "execute_result"
    }
   ],
   "source": [
    "credits.head(1)"
   ]
  },
  {
   "cell_type": "markdown",
   "id": "4bca6adb-5a45-411e-9a83-d177240238a8",
   "metadata": {},
   "source": [
    "Head of the credit dataframe."
   ]
  },
  {
   "cell_type": "code",
   "execution_count": 5,
   "id": "f9297ecf-a56e-4d73-8ceb-1e0177265727",
   "metadata": {},
   "outputs": [],
   "source": [
    "movies=movies.merge(credits,on=\"title\")"
   ]
  },
  {
   "cell_type": "markdown",
   "id": "7c5d3ff8-5d56-4a7f-9669-a18b42dc074c",
   "metadata": {},
   "source": [
    "- **Purpose**: This cell merges the `movies` and `credits` dataframes into a single dataframe, combining the movie data with cast and crew information based on the shared \"title\" column. Merging helps centralize data for easier processing in the recommendation system.\n",
    "\n",
    "- **Approach**: The code uses the `merge()` function from `pandas` with the parameter `on=\"title\"`, which specifies that the merge should align rows where the \"title\" column matches in both dataframes. This creates a single comprehensive dataframe containing both movie details and credits data.\n",
    "\n",
    "- **Outcome**: After running this cell, `movies` becomes a combined dataframe with additional columns from `credits`, including cast and crew details. This enriched dataframe allows the recommendation system to access all relevant movie information in one place for more accurate recommendations."
   ]
  },
  {
   "cell_type": "code",
   "execution_count": 6,
   "id": "5d25c64f-f493-43bb-a722-f52af0a0b9e0",
   "metadata": {},
   "outputs": [
    {
     "data": {
      "text/html": [
       "<div>\n",
       "<style scoped>\n",
       "    .dataframe tbody tr th:only-of-type {\n",
       "        vertical-align: middle;\n",
       "    }\n",
       "\n",
       "    .dataframe tbody tr th {\n",
       "        vertical-align: top;\n",
       "    }\n",
       "\n",
       "    .dataframe thead th {\n",
       "        text-align: right;\n",
       "    }\n",
       "</style>\n",
       "<table border=\"1\" class=\"dataframe\">\n",
       "  <thead>\n",
       "    <tr style=\"text-align: right;\">\n",
       "      <th></th>\n",
       "      <th>budget</th>\n",
       "      <th>genres</th>\n",
       "      <th>homepage</th>\n",
       "      <th>id</th>\n",
       "      <th>keywords</th>\n",
       "      <th>original_language</th>\n",
       "      <th>original_title</th>\n",
       "      <th>overview</th>\n",
       "      <th>popularity</th>\n",
       "      <th>production_companies</th>\n",
       "      <th>...</th>\n",
       "      <th>runtime</th>\n",
       "      <th>spoken_languages</th>\n",
       "      <th>status</th>\n",
       "      <th>tagline</th>\n",
       "      <th>title</th>\n",
       "      <th>vote_average</th>\n",
       "      <th>vote_count</th>\n",
       "      <th>movie_id</th>\n",
       "      <th>cast</th>\n",
       "      <th>crew</th>\n",
       "    </tr>\n",
       "  </thead>\n",
       "  <tbody>\n",
       "    <tr>\n",
       "      <th>0</th>\n",
       "      <td>237000000</td>\n",
       "      <td>[{\"id\": 28, \"name\": \"Action\"}, {\"id\": 12, \"nam...</td>\n",
       "      <td>http://www.avatarmovie.com/</td>\n",
       "      <td>19995</td>\n",
       "      <td>[{\"id\": 1463, \"name\": \"culture clash\"}, {\"id\":...</td>\n",
       "      <td>en</td>\n",
       "      <td>Avatar</td>\n",
       "      <td>In the 22nd century, a paraplegic Marine is di...</td>\n",
       "      <td>150.437577</td>\n",
       "      <td>[{\"name\": \"Ingenious Film Partners\", \"id\": 289...</td>\n",
       "      <td>...</td>\n",
       "      <td>162.0</td>\n",
       "      <td>[{\"iso_639_1\": \"en\", \"name\": \"English\"}, {\"iso...</td>\n",
       "      <td>Released</td>\n",
       "      <td>Enter the World of Pandora.</td>\n",
       "      <td>Avatar</td>\n",
       "      <td>7.2</td>\n",
       "      <td>11800</td>\n",
       "      <td>19995</td>\n",
       "      <td>[{\"cast_id\": 242, \"character\": \"Jake Sully\", \"...</td>\n",
       "      <td>[{\"credit_id\": \"52fe48009251416c750aca23\", \"de...</td>\n",
       "    </tr>\n",
       "  </tbody>\n",
       "</table>\n",
       "<p>1 rows × 23 columns</p>\n",
       "</div>"
      ],
      "text/plain": [
       "      budget                                             genres  \\\n",
       "0  237000000  [{\"id\": 28, \"name\": \"Action\"}, {\"id\": 12, \"nam...   \n",
       "\n",
       "                      homepage     id  \\\n",
       "0  http://www.avatarmovie.com/  19995   \n",
       "\n",
       "                                            keywords original_language  \\\n",
       "0  [{\"id\": 1463, \"name\": \"culture clash\"}, {\"id\":...                en   \n",
       "\n",
       "  original_title                                           overview  \\\n",
       "0         Avatar  In the 22nd century, a paraplegic Marine is di...   \n",
       "\n",
       "   popularity                               production_companies  ... runtime  \\\n",
       "0  150.437577  [{\"name\": \"Ingenious Film Partners\", \"id\": 289...  ...   162.0   \n",
       "\n",
       "                                    spoken_languages    status  \\\n",
       "0  [{\"iso_639_1\": \"en\", \"name\": \"English\"}, {\"iso...  Released   \n",
       "\n",
       "                       tagline   title vote_average vote_count movie_id  \\\n",
       "0  Enter the World of Pandora.  Avatar          7.2      11800    19995   \n",
       "\n",
       "                                                cast  \\\n",
       "0  [{\"cast_id\": 242, \"character\": \"Jake Sully\", \"...   \n",
       "\n",
       "                                                crew  \n",
       "0  [{\"credit_id\": \"52fe48009251416c750aca23\", \"de...  \n",
       "\n",
       "[1 rows x 23 columns]"
      ]
     },
     "execution_count": 6,
     "metadata": {},
     "output_type": "execute_result"
    }
   ],
   "source": [
    "movies.head(1)"
   ]
  },
  {
   "cell_type": "markdown",
   "id": "659de5dd-e0c7-49b9-ae3f-5b1acf9371ea",
   "metadata": {},
   "source": [
    "# Data Preporcessing"
   ]
  },
  {
   "cell_type": "code",
   "execution_count": 7,
   "id": "d972626e-0da8-43ce-9d0e-2d70540c5cd9",
   "metadata": {},
   "outputs": [],
   "source": [
    "# GENERE\n",
    "# ID\n",
    "# KEYWORDS\n",
    "# TITLE\n",
    "# OVERVIEW\n",
    "# CAST\n",
    "# CREW\n",
    "\n",
    "movies=movies[['movie_id','title','overview','genres','keywords','cast','crew']]"
   ]
  },
  {
   "cell_type": "markdown",
   "id": "fa9b22af-fb1e-45bc-ab9f-e4157cf4564e",
   "metadata": {},
   "source": [
    "- **Purpose**: This cell selects only the essential columns from the `movies` dataframe that will be used in the recommendation system. By focusing on specific columns, it reduces memory usage and simplifies the data, keeping only relevant information for generating recommendations.\n",
    "\n",
    "- **Approach**: The code reassigns `movies` to a new subset of itself, using double square brackets `[['movie_id','title','overview','genres','keywords','cast','crew']]` to select multiple columns. These chosen columns include unique identifiers, descriptive details, and data categories that support recommendation criteria (like genre, keywords, and cast).\n",
    "\n",
    "- **Outcome**: Running this cell updates `movies` to contain only the columns specified (`movie_id`, `title`, `overview`, `genres`, `keywords`, `cast`, and `crew`). This streamlined dataframe is easier to process and analyze in later steps of the recommendation system."
   ]
  },
  {
   "cell_type": "code",
   "execution_count": 8,
   "id": "1a7e474d-5bbe-4857-87c6-4d0f012078d9",
   "metadata": {},
   "outputs": [
    {
     "name": "stdout",
     "output_type": "stream",
     "text": [
      "<class 'pandas.core.frame.DataFrame'>\n",
      "RangeIndex: 4809 entries, 0 to 4808\n",
      "Data columns (total 7 columns):\n",
      " #   Column    Non-Null Count  Dtype \n",
      "---  ------    --------------  ----- \n",
      " 0   movie_id  4809 non-null   int64 \n",
      " 1   title     4809 non-null   object\n",
      " 2   overview  4806 non-null   object\n",
      " 3   genres    4809 non-null   object\n",
      " 4   keywords  4809 non-null   object\n",
      " 5   cast      4809 non-null   object\n",
      " 6   crew      4809 non-null   object\n",
      "dtypes: int64(1), object(6)\n",
      "memory usage: 263.1+ KB\n"
     ]
    }
   ],
   "source": [
    "movies.info()"
   ]
  },
  {
   "cell_type": "code",
   "execution_count": 9,
   "id": "ff5ba09e-d732-4c7a-b9c9-06e457fc39da",
   "metadata": {},
   "outputs": [
    {
     "data": {
      "text/html": [
       "<div>\n",
       "<style scoped>\n",
       "    .dataframe tbody tr th:only-of-type {\n",
       "        vertical-align: middle;\n",
       "    }\n",
       "\n",
       "    .dataframe tbody tr th {\n",
       "        vertical-align: top;\n",
       "    }\n",
       "\n",
       "    .dataframe thead th {\n",
       "        text-align: right;\n",
       "    }\n",
       "</style>\n",
       "<table border=\"1\" class=\"dataframe\">\n",
       "  <thead>\n",
       "    <tr style=\"text-align: right;\">\n",
       "      <th></th>\n",
       "      <th>movie_id</th>\n",
       "      <th>title</th>\n",
       "      <th>overview</th>\n",
       "      <th>genres</th>\n",
       "      <th>keywords</th>\n",
       "      <th>cast</th>\n",
       "      <th>crew</th>\n",
       "    </tr>\n",
       "  </thead>\n",
       "  <tbody>\n",
       "    <tr>\n",
       "      <th>0</th>\n",
       "      <td>19995</td>\n",
       "      <td>Avatar</td>\n",
       "      <td>In the 22nd century, a paraplegic Marine is di...</td>\n",
       "      <td>[{\"id\": 28, \"name\": \"Action\"}, {\"id\": 12, \"nam...</td>\n",
       "      <td>[{\"id\": 1463, \"name\": \"culture clash\"}, {\"id\":...</td>\n",
       "      <td>[{\"cast_id\": 242, \"character\": \"Jake Sully\", \"...</td>\n",
       "      <td>[{\"credit_id\": \"52fe48009251416c750aca23\", \"de...</td>\n",
       "    </tr>\n",
       "    <tr>\n",
       "      <th>1</th>\n",
       "      <td>285</td>\n",
       "      <td>Pirates of the Caribbean: At World's End</td>\n",
       "      <td>Captain Barbossa, long believed to be dead, ha...</td>\n",
       "      <td>[{\"id\": 12, \"name\": \"Adventure\"}, {\"id\": 14, \"...</td>\n",
       "      <td>[{\"id\": 270, \"name\": \"ocean\"}, {\"id\": 726, \"na...</td>\n",
       "      <td>[{\"cast_id\": 4, \"character\": \"Captain Jack Spa...</td>\n",
       "      <td>[{\"credit_id\": \"52fe4232c3a36847f800b579\", \"de...</td>\n",
       "    </tr>\n",
       "    <tr>\n",
       "      <th>2</th>\n",
       "      <td>206647</td>\n",
       "      <td>Spectre</td>\n",
       "      <td>A cryptic message from Bond’s past sends him o...</td>\n",
       "      <td>[{\"id\": 28, \"name\": \"Action\"}, {\"id\": 12, \"nam...</td>\n",
       "      <td>[{\"id\": 470, \"name\": \"spy\"}, {\"id\": 818, \"name...</td>\n",
       "      <td>[{\"cast_id\": 1, \"character\": \"James Bond\", \"cr...</td>\n",
       "      <td>[{\"credit_id\": \"54805967c3a36829b5002c41\", \"de...</td>\n",
       "    </tr>\n",
       "    <tr>\n",
       "      <th>3</th>\n",
       "      <td>49026</td>\n",
       "      <td>The Dark Knight Rises</td>\n",
       "      <td>Following the death of District Attorney Harve...</td>\n",
       "      <td>[{\"id\": 28, \"name\": \"Action\"}, {\"id\": 80, \"nam...</td>\n",
       "      <td>[{\"id\": 849, \"name\": \"dc comics\"}, {\"id\": 853,...</td>\n",
       "      <td>[{\"cast_id\": 2, \"character\": \"Bruce Wayne / Ba...</td>\n",
       "      <td>[{\"credit_id\": \"52fe4781c3a36847f81398c3\", \"de...</td>\n",
       "    </tr>\n",
       "    <tr>\n",
       "      <th>4</th>\n",
       "      <td>49529</td>\n",
       "      <td>John Carter</td>\n",
       "      <td>John Carter is a war-weary, former military ca...</td>\n",
       "      <td>[{\"id\": 28, \"name\": \"Action\"}, {\"id\": 12, \"nam...</td>\n",
       "      <td>[{\"id\": 818, \"name\": \"based on novel\"}, {\"id\":...</td>\n",
       "      <td>[{\"cast_id\": 5, \"character\": \"John Carter\", \"c...</td>\n",
       "      <td>[{\"credit_id\": \"52fe479ac3a36847f813eaa3\", \"de...</td>\n",
       "    </tr>\n",
       "  </tbody>\n",
       "</table>\n",
       "</div>"
      ],
      "text/plain": [
       "   movie_id                                     title  \\\n",
       "0     19995                                    Avatar   \n",
       "1       285  Pirates of the Caribbean: At World's End   \n",
       "2    206647                                   Spectre   \n",
       "3     49026                     The Dark Knight Rises   \n",
       "4     49529                               John Carter   \n",
       "\n",
       "                                            overview  \\\n",
       "0  In the 22nd century, a paraplegic Marine is di...   \n",
       "1  Captain Barbossa, long believed to be dead, ha...   \n",
       "2  A cryptic message from Bond’s past sends him o...   \n",
       "3  Following the death of District Attorney Harve...   \n",
       "4  John Carter is a war-weary, former military ca...   \n",
       "\n",
       "                                              genres  \\\n",
       "0  [{\"id\": 28, \"name\": \"Action\"}, {\"id\": 12, \"nam...   \n",
       "1  [{\"id\": 12, \"name\": \"Adventure\"}, {\"id\": 14, \"...   \n",
       "2  [{\"id\": 28, \"name\": \"Action\"}, {\"id\": 12, \"nam...   \n",
       "3  [{\"id\": 28, \"name\": \"Action\"}, {\"id\": 80, \"nam...   \n",
       "4  [{\"id\": 28, \"name\": \"Action\"}, {\"id\": 12, \"nam...   \n",
       "\n",
       "                                            keywords  \\\n",
       "0  [{\"id\": 1463, \"name\": \"culture clash\"}, {\"id\":...   \n",
       "1  [{\"id\": 270, \"name\": \"ocean\"}, {\"id\": 726, \"na...   \n",
       "2  [{\"id\": 470, \"name\": \"spy\"}, {\"id\": 818, \"name...   \n",
       "3  [{\"id\": 849, \"name\": \"dc comics\"}, {\"id\": 853,...   \n",
       "4  [{\"id\": 818, \"name\": \"based on novel\"}, {\"id\":...   \n",
       "\n",
       "                                                cast  \\\n",
       "0  [{\"cast_id\": 242, \"character\": \"Jake Sully\", \"...   \n",
       "1  [{\"cast_id\": 4, \"character\": \"Captain Jack Spa...   \n",
       "2  [{\"cast_id\": 1, \"character\": \"James Bond\", \"cr...   \n",
       "3  [{\"cast_id\": 2, \"character\": \"Bruce Wayne / Ba...   \n",
       "4  [{\"cast_id\": 5, \"character\": \"John Carter\", \"c...   \n",
       "\n",
       "                                                crew  \n",
       "0  [{\"credit_id\": \"52fe48009251416c750aca23\", \"de...  \n",
       "1  [{\"credit_id\": \"52fe4232c3a36847f800b579\", \"de...  \n",
       "2  [{\"credit_id\": \"54805967c3a36829b5002c41\", \"de...  \n",
       "3  [{\"credit_id\": \"52fe4781c3a36847f81398c3\", \"de...  \n",
       "4  [{\"credit_id\": \"52fe479ac3a36847f813eaa3\", \"de...  "
      ]
     },
     "execution_count": 9,
     "metadata": {},
     "output_type": "execute_result"
    }
   ],
   "source": [
    "movies.head()"
   ]
  },
  {
   "cell_type": "code",
   "execution_count": 10,
   "id": "7981b31f-a334-48bc-9030-831ad6a2a427",
   "metadata": {},
   "outputs": [
    {
     "data": {
      "text/plain": [
       "movie_id    0\n",
       "title       0\n",
       "overview    3\n",
       "genres      0\n",
       "keywords    0\n",
       "cast        0\n",
       "crew        0\n",
       "dtype: int64"
      ]
     },
     "execution_count": 10,
     "metadata": {},
     "output_type": "execute_result"
    }
   ],
   "source": [
    "movies.isnull().sum()"
   ]
  },
  {
   "cell_type": "markdown",
   "id": "ef78948e-4526-4821-8a61-fa92fec962e6",
   "metadata": {},
   "source": [
    "- **Purpose**: This cell checks for any missing values in each column of the `movies` dataframe. Identifying null values early on helps prevent potential errors during data processing and recommendation generation.\n",
    "\n",
    "- **Outcome**: Running this cell outputs the number of null values in each column of `movies`. This information highlights any data gaps that might need handling (such as filling, removing, or ignoring nulls) before proceeding with further analysis in the recommendation system."
   ]
  },
  {
   "cell_type": "code",
   "execution_count": 11,
   "id": "eec0f4c5-e88a-4861-bab4-ff485b853ca5",
   "metadata": {},
   "outputs": [],
   "source": [
    "movies.dropna(inplace=True)"
   ]
  },
  {
   "cell_type": "markdown",
   "id": "9ef36526-c9e3-4b31-8476-63b7f4b3a2c4",
   "metadata": {},
   "source": [
    "- **Purpose**: This cell removes any rows in the `movies` dataframe that contain missing values. Handling missing data ensures a cleaner dataset, minimizing potential issues in the recommendation process.\n",
    "\n",
    "- **Approach**: The code uses the `dropna()` function from `pandas`, which removes rows with null values. By setting `inplace=True`, it directly modifies the existing `movies` dataframe without creating a copy, making the change immediate and memory-efficient.\n",
    "\n",
    "- **Outcome**: Running this cell permanently removes rows with any null values from the `movies` dataframe. As a result, the remaining data is complete and ready for further processing, improving the quality and accuracy of the recommendation system."
   ]
  },
  {
   "cell_type": "code",
   "execution_count": 12,
   "id": "80917deb-6cfb-4365-9822-7629cccd49c2",
   "metadata": {},
   "outputs": [
    {
     "data": {
      "text/plain": [
       "0"
      ]
     },
     "execution_count": 12,
     "metadata": {},
     "output_type": "execute_result"
    }
   ],
   "source": [
    "movies.duplicated().sum()"
   ]
  },
  {
   "cell_type": "markdown",
   "id": "9c4c819c-a0a5-49e8-aeb6-4f9ade83f75c",
   "metadata": {},
   "source": [
    "Check for any duplicate values in movies dataframe"
   ]
  },
  {
   "cell_type": "code",
   "execution_count": 13,
   "id": "0a6800ff-d4bc-4c0c-b873-f2267a108e0b",
   "metadata": {},
   "outputs": [
    {
     "data": {
      "text/plain": [
       "'[{\"id\": 28, \"name\": \"Action\"}, {\"id\": 12, \"name\": \"Adventure\"}, {\"id\": 14, \"name\": \"Fantasy\"}, {\"id\": 878, \"name\": \"Science Fiction\"}]'"
      ]
     },
     "execution_count": 13,
     "metadata": {},
     "output_type": "execute_result"
    }
   ],
   "source": [
    "movies.iloc[0].genres"
   ]
  },
  {
   "cell_type": "markdown",
   "id": "d7f318ac-b618-4c87-a489-fe3106b17f47",
   "metadata": {},
   "source": [
    "- **Purpose**: This cell accesses the `genres` data of the first movie in the `movies` dataframe. Viewing this specific entry helps you understand how genre information is stored for each movie, which is useful for preprocessing steps.\n",
    "\n",
    "- **Outcome**: Running this cell displays the raw format of the `genres` data for the first movie. This preview helps you assess any required formatting or extraction to make genre information usable in the recommendation system."
   ]
  },
  {
   "cell_type": "code",
   "execution_count": 14,
   "id": "ec9afdc7-d12d-4c48-8b2e-305f446a3da2",
   "metadata": {},
   "outputs": [],
   "source": [
    "#This cell imports Python's built-in ast (Abstract Syntax Trees) module, which is used to evaluate and manipulate Python syntax trees. \n",
    "#In this context, ast is likely imported to help parse specific string data types (e.g., dictionaries or lists stored as strings in the dataframe) \n",
    "#into usable Python objects.\n",
    "import ast"
   ]
  },
  {
   "cell_type": "code",
   "execution_count": 15,
   "id": "6bfd09e2-b989-48b3-b04c-d445ce805441",
   "metadata": {},
   "outputs": [],
   "source": [
    "#helper function\n",
    "def convert(obj):\n",
    "    L=[]\n",
    "    for i in ast.literal_eval(obj):\n",
    "        L.append(i['name'])\n",
    "    return L"
   ]
  },
  {
   "cell_type": "markdown",
   "id": "d407eb12-cfc5-4610-92fd-cf772f86bef3",
   "metadata": {},
   "source": [
    "- **Purpose**: This cell defines a helper function named `convert`, which extracts and returns a list of genre names from a string representation of a list of dictionaries. This is crucial for converting the `genres` column (which may contain string representations of lists) into a more manageable format for analysis in the recommendation system.\n",
    "\n",
    "- **Approach**: \n",
    "  - The function takes one parameter, `obj`, which is expected to be a string formatted like a list of dictionaries.\n",
    "  - It initializes an empty list `L`.\n",
    "  - It uses `ast.literal_eval()` to safely parse `obj` into a Python list of dictionaries.\n",
    "  - The function iterates over each dictionary in this list, appending the value associated with the 'name' key to the list `L`.\n",
    "  - Finally, it returns the populated list `L`.\n",
    "\n",
    "- **Outcome**: After defining this function, it can be called to convert the `genres` strings in the dataframe into lists of genre names. This transformation simplifies the handling of genre data, making it more accessible for analysis and subsequent recommendation processes."
   ]
  },
  {
   "cell_type": "code",
   "execution_count": 16,
   "id": "a1495556-425c-4597-8e67-520cce8cc679",
   "metadata": {},
   "outputs": [],
   "source": [
    "movies['genres']=movies['genres'].apply(convert)"
   ]
  },
  {
   "cell_type": "markdown",
   "id": "923e7b82-1b75-45de-a013-0a2ecfa8d150",
   "metadata": {},
   "source": [
    "- **Purpose**: This cell applies the `convert` function to the `genres` column of the `movies` dataframe. The goal is to transform the string representations of genre lists into actual lists of genre names, facilitating easier manipulation and analysis.\n",
    "\n",
    "- **Approach**: The code uses the `apply()` method from `pandas`, which allows you to apply a function along a specified axis of the dataframe. Here, `convert` is applied to each element in the `genres` column. The resulting lists replace the original string representations in the `genres` column.\n",
    "\n",
    "- **Outcome**: After running this cell, the `genres` column in the `movies` dataframe will contain lists of genre names instead of strings. This format makes it easier to work with genres when developing the recommendation system, such as filtering, matching, or analyzing movie genres based on user preferences."
   ]
  },
  {
   "cell_type": "code",
   "execution_count": 17,
   "id": "118d036c-bdda-4580-9193-db7db41e8c63",
   "metadata": {},
   "outputs": [],
   "source": [
    "movies['keywords']=movies['keywords'].apply(convert)"
   ]
  },
  {
   "cell_type": "markdown",
   "id": "6c2402ef-66f4-4fb4-b222-366cc43c2d8b",
   "metadata": {},
   "source": [
    "- **Purpose**: This cell applies the `convert` function to the `keywords` column of the `movies` dataframe. The aim is to transform the string representations of keyword lists into actual lists of keywords, similar to the previous transformation for genres.\n",
    "\n",
    "- **Approach**: The code uses the `apply()` method from `pandas`, which enables the execution of the `convert` function on each entry in the `keywords` column. The transformed lists replace the original string representations within that column.\n",
    "\n",
    "- **Outcome**: After running this cell, the `keywords` column in the `movies` dataframe will contain lists of keywords instead of strings. This modification enhances data usability, making it easier to filter, analyze, and utilize keywords when generating movie recommendations."
   ]
  },
  {
   "cell_type": "code",
   "execution_count": 18,
   "id": "fe40f71a-fcd5-4d2d-82fe-a2fa064f08e7",
   "metadata": {},
   "outputs": [],
   "source": [
    "#helper function\n",
    "def convert3(obj):\n",
    "    L=[]\n",
    "    counter=0\n",
    "    for i in ast.literal_eval(obj):\n",
    "        if counter!=3:\n",
    "            L.append(i['name'])\n",
    "            counter+=1\n",
    "        else:\n",
    "            break\n",
    "    return L"
   ]
  },
  {
   "cell_type": "markdown",
   "id": "1c3e6490-05b6-489b-93b5-26fd34f4e301",
   "metadata": {},
   "source": [
    "- **Purpose**: This cell defines a helper function named `convert3`, which extracts up to three genre names from a string representation of a list of dictionaries. This is particularly useful when you want to limit the number of genres or keywords associated with each movie for the recommendation system.\n",
    "\n",
    "- **Approach**: \n",
    "  - The function takes one parameter, `obj`, which is expected to be a string formatted like a list of dictionaries.\n",
    "  - It initializes an empty list `L` and a `counter` variable set to `0`.\n",
    "  - The function uses `ast.literal_eval()` to safely convert the string `obj` into a Python list of dictionaries.\n",
    "  - It iterates over this list, checking the `counter` variable. For each dictionary:\n",
    "    - If `counter` is not equal to `3`, it appends the value associated with the 'name' key to the list `L` and increments the `counter`.\n",
    "    - If `counter` reaches `3`, the loop breaks, stopping further additions to the list.\n",
    "  - Finally, it returns the populated list `L`.\n",
    "\n",
    "- **Outcome**: After defining this function, it can be used to extract up to three genre names or keywords from the `genres` or `keywords` columns of the dataframe. This allows for a more concise representation of movie attributes, which can be beneficial for improving the performance and readability of the recommendation system."
   ]
  },
  {
   "cell_type": "code",
   "execution_count": 19,
   "id": "e3f9aa7f-c331-4eb8-8678-c781a405ca85",
   "metadata": {},
   "outputs": [],
   "source": [
    "movies['cast']=movies['cast'].apply(convert3)"
   ]
  },
  {
   "cell_type": "markdown",
   "id": "f5d0b20c-3322-4346-bd68-6c82ec908327",
   "metadata": {},
   "source": [
    "- **Purpose**: This cell applies the `convert3` function to the `cast` column of the `movies` dataframe. The goal is to extract up to three cast member names from the string representations of lists of dictionaries, providing a more manageable view of the cast information for each movie.\n",
    "\n",
    "- **Outcome**: After running this cell, the `cast` column in the `movies` dataframe will contain lists of up to three cast member names instead of strings. This streamlined format makes it easier to analyze and utilize cast information when generating recommendations, focusing on the most prominent actors for each movie."
   ]
  },
  {
   "cell_type": "code",
   "execution_count": 20,
   "id": "31df4812-1b00-42e1-9c2b-8bbc894c95fd",
   "metadata": {},
   "outputs": [],
   "source": [
    "#helper function\n",
    "def fetch_director(obj):\n",
    "    L=[]\n",
    "    counter=0\n",
    "    for i in ast.literal_eval(obj):\n",
    "        if i['job']=='Director':\n",
    "            L.append(i['name'])\n",
    "            break\n",
    "    return L"
   ]
  },
  {
   "cell_type": "markdown",
   "id": "8504dc85-974b-453e-a3e3-be00fd56c3bb",
   "metadata": {},
   "source": [
    "- **Purpose**: This cell defines a helper function named `fetch_director`, which extracts the name of the director from a string representation of a list of dictionaries. This is important for identifying the key creative figure behind each movie, which can be a significant factor in recommendations.\n",
    "\n",
    "- **Approach**: \n",
    "  - The function takes one parameter, `obj`, which is expected to be a string formatted like a list of dictionaries.\n",
    "  - It initializes an empty list `L` and a `counter` variable (though the counter isn't actually utilized in this function).\n",
    "  - The function uses `ast.literal_eval()` to safely convert the string `obj` into a Python list of dictionaries.\n",
    "  - It iterates over this list, checking each dictionary:\n",
    "    - If the value associated with the 'job' key is 'Director', it appends the corresponding 'name' value to the list `L` and breaks the loop to stop further iterations (since only one director is needed).\n",
    "  - Finally, it returns the populated list `L`, which will either contain the director's name or be empty if no director is found.\n",
    "\n",
    "- **Outcome**: After defining this function, it can be used to extract the director's name from the `crew` column of the `movies` dataframe. This enables the recommendation system to leverage director information, enhancing its ability to make more personalized recommendations based on directorial style or preferences.of the cast information for each movie."
   ]
  },
  {
   "cell_type": "code",
   "execution_count": 21,
   "id": "aec5a5e0-acfd-42e8-9fa5-7f7d22558c1c",
   "metadata": {},
   "outputs": [],
   "source": [
    "movies['crew']=movies['crew'].apply(fetch_director)"
   ]
  },
  {
   "cell_type": "markdown",
   "id": "ed10a3c4-428b-4c94-9ab6-13e43f47b519",
   "metadata": {},
   "source": [
    "\r\n",
    "- **Purpose**: This cell processes the `crew` column of the `movies` DataFrame to extract the names of directors for each movie. The goal is to create a more streamlined representation of the movie data, focusing on the directors, which can be useful for recommendation purposes or for additional features in the movie recommendation system.\r\n",
    "\r\n",
    "- **Approach**:\r\n",
    "  - The code applies the `fetch_director` helper function to each element in the `movies['crew']` column using the `apply()` method. \r\n",
    "  - The `fetch_director` function iterates over the list of crew members (formatted as a string that represents a list of dictionaries) and checks for entries where the job is \"Director.\"\r\n",
    "  - For each movie, it collects the name of the director and returns it as a list. This transformation is applied to the entire `crew` column.\r\n",
    "\r\n",
    "- **Outcome**: After executing this cell, the `movies['crew']` column will contain lists of director names for each movie instead of the original complex structure. This makes the dataset easier to work with, as it simplifies the information related to movie directors and prepares it for further analysis or features in the recommendation system. The transformation also aids in enhancing the relevance of movie recommendations based on directors, which can be a key factor for users seeking films by their favorite filmmakers."
   ]
  },
  {
   "cell_type": "code",
   "execution_count": 22,
   "id": "c9694013-a109-4769-9e07-c1e8d9f30a6a",
   "metadata": {},
   "outputs": [],
   "source": [
    "movies['overview']=movies['overview'].apply(lambda x:x.split())"
   ]
  },
  {
   "cell_type": "markdown",
   "id": "fafbb516-da58-4490-a827-86c1f4b699e3",
   "metadata": {},
   "source": [
    "\r\n",
    "- **Purpose**: This cell processes the `overview` column of the `movies` DataFrame to transform the movie overviews into a list of words. The goal is to prepare the overview text for further analysis, such as text vectorization or feature extraction.\r\n",
    "\r\n",
    "- **Approach**:\r\n",
    "  - The code uses the `apply()` method with a lambda function on the `movies['overview']` column.\r\n",
    "  - The lambda function takes each overview string `x` and applies the `split()` method, which divides the string into a list of words based on whitespace. This effectively converts each movie's overview into a list of individual words.\r\n",
    "\r\n",
    "- **Outcome**: After executing this cell, the `movies['overview']` column will contain lists of words for each movie's overview instead of a single string. This transformation facilitates subsequent text processing tasks, such as bag-of-words vectorization or natural language processing (NLP) operations. By breaking down the overviews into lists, it allows for easier manipulation and analysis, ultimately contributing to the recommendation system's ability to generate suggestions based on textual similarities in movie overviews."
   ]
  },
  {
   "cell_type": "code",
   "execution_count": 23,
   "id": "5408d2d9-14ba-444e-8ba2-d7a2e8e31c33",
   "metadata": {},
   "outputs": [],
   "source": [
    "movies['genres']=movies['genres'].apply(lambda x:[i.replace(\" \",\"\")for i in x])\n",
    "movies['keywords']=movies['keywords'].apply(lambda x:[i.replace(\" \",\"\")for i in x])\n",
    "movies['cast']=movies['cast'].apply(lambda x:[i.replace(\" \",\"\")for i in x])\n",
    "movies['crew']=movies['crew'].apply(lambda x:[i.replace(\" \",\"\")for i in x])"
   ]
  },
  {
   "cell_type": "markdown",
   "id": "1d75f29a-ae62-4dd7-841e-599ca877e6ce",
   "metadata": {},
   "source": [
    "- **Purpose**: This cell removes any spaces from the genre names, keywords, cast member names, and director names in the respective columns of the `movies` dataframe. This normalization step helps ensure consistency in the data, which can be particularly important when comparing or analyzing string data.\n",
    "\n",
    "- **Approach**: The code applies a `lambda` function to each of the specified columns (`genres`, `keywords`, `cast`, and `crew`) using the `apply()` method from `pandas`. The `lambda` function iterates through each list in the column, applying the `replace(\" \", \"\")` method to each element `i` to remove spaces.\n",
    "\n",
    "- **Outcome**: After running this cell, all entries in the `genres`, `keywords`, `cast`, and `crew` columns will have had spaces removed from their respective names. The resulting lists will be cleaner and more standardized, making them easier to work with in subsequent analysis or recommendation processes. This can enhance the performance of any similarity comparisons or searches performed on these fields."
   ]
  },
  {
   "cell_type": "code",
   "execution_count": 24,
   "id": "6b9ccd03-49d5-462e-905c-d8c2434aee60",
   "metadata": {},
   "outputs": [],
   "source": [
    "movies['tag']=movies['overview']+movies['genres']+movies['keywords']+movies['cast']+movies['crew']"
   ]
  },
  {
   "cell_type": "markdown",
   "id": "297301f1-80e9-45b6-a627-d152cedb5546",
   "metadata": {},
   "source": [
    "- **Purpose**: This cell creates a new column named `tag` in the `movies` dataframe, which combines the `overview`, `genres`, `keywords`, `cast`, and `crew` columns. The intention is to create a comprehensive representation of each movie, consolidating all relevant information into a single column for easier access and analysis.\n",
    "\n",
    "- **Outcome**: After running this cell, the `tag` column in the `movies` dataframe will contain lists that combine information from the `overview`, `genres`, `keywords`, `cast`, and `crew`. This consolidated representation allows for more effective analysis and processing in the recommendation system, as it enables a holistic view of each movie's attributes and features, simplifying subsequent comparisons and recommendations."
   ]
  },
  {
   "cell_type": "code",
   "execution_count": 25,
   "id": "290b92ec-2539-4f1a-9dff-07662fd2458e",
   "metadata": {},
   "outputs": [
    {
     "data": {
      "text/html": [
       "<div>\n",
       "<style scoped>\n",
       "    .dataframe tbody tr th:only-of-type {\n",
       "        vertical-align: middle;\n",
       "    }\n",
       "\n",
       "    .dataframe tbody tr th {\n",
       "        vertical-align: top;\n",
       "    }\n",
       "\n",
       "    .dataframe thead th {\n",
       "        text-align: right;\n",
       "    }\n",
       "</style>\n",
       "<table border=\"1\" class=\"dataframe\">\n",
       "  <thead>\n",
       "    <tr style=\"text-align: right;\">\n",
       "      <th></th>\n",
       "      <th>movie_id</th>\n",
       "      <th>title</th>\n",
       "      <th>overview</th>\n",
       "      <th>genres</th>\n",
       "      <th>keywords</th>\n",
       "      <th>cast</th>\n",
       "      <th>crew</th>\n",
       "      <th>tag</th>\n",
       "    </tr>\n",
       "  </thead>\n",
       "  <tbody>\n",
       "    <tr>\n",
       "      <th>0</th>\n",
       "      <td>19995</td>\n",
       "      <td>Avatar</td>\n",
       "      <td>[In, the, 22nd, century,, a, paraplegic, Marin...</td>\n",
       "      <td>[Action, Adventure, Fantasy, ScienceFiction]</td>\n",
       "      <td>[cultureclash, future, spacewar, spacecolony, ...</td>\n",
       "      <td>[SamWorthington, ZoeSaldana, SigourneyWeaver]</td>\n",
       "      <td>[JamesCameron]</td>\n",
       "      <td>[In, the, 22nd, century,, a, paraplegic, Marin...</td>\n",
       "    </tr>\n",
       "    <tr>\n",
       "      <th>1</th>\n",
       "      <td>285</td>\n",
       "      <td>Pirates of the Caribbean: At World's End</td>\n",
       "      <td>[Captain, Barbossa,, long, believed, to, be, d...</td>\n",
       "      <td>[Adventure, Fantasy, Action]</td>\n",
       "      <td>[ocean, drugabuse, exoticisland, eastindiatrad...</td>\n",
       "      <td>[JohnnyDepp, OrlandoBloom, KeiraKnightley]</td>\n",
       "      <td>[GoreVerbinski]</td>\n",
       "      <td>[Captain, Barbossa,, long, believed, to, be, d...</td>\n",
       "    </tr>\n",
       "    <tr>\n",
       "      <th>2</th>\n",
       "      <td>206647</td>\n",
       "      <td>Spectre</td>\n",
       "      <td>[A, cryptic, message, from, Bond’s, past, send...</td>\n",
       "      <td>[Action, Adventure, Crime]</td>\n",
       "      <td>[spy, basedonnovel, secretagent, sequel, mi6, ...</td>\n",
       "      <td>[DanielCraig, ChristophWaltz, LéaSeydoux]</td>\n",
       "      <td>[SamMendes]</td>\n",
       "      <td>[A, cryptic, message, from, Bond’s, past, send...</td>\n",
       "    </tr>\n",
       "    <tr>\n",
       "      <th>3</th>\n",
       "      <td>49026</td>\n",
       "      <td>The Dark Knight Rises</td>\n",
       "      <td>[Following, the, death, of, District, Attorney...</td>\n",
       "      <td>[Action, Crime, Drama, Thriller]</td>\n",
       "      <td>[dccomics, crimefighter, terrorist, secretiden...</td>\n",
       "      <td>[ChristianBale, MichaelCaine, GaryOldman]</td>\n",
       "      <td>[ChristopherNolan]</td>\n",
       "      <td>[Following, the, death, of, District, Attorney...</td>\n",
       "    </tr>\n",
       "    <tr>\n",
       "      <th>4</th>\n",
       "      <td>49529</td>\n",
       "      <td>John Carter</td>\n",
       "      <td>[John, Carter, is, a, war-weary,, former, mili...</td>\n",
       "      <td>[Action, Adventure, ScienceFiction]</td>\n",
       "      <td>[basedonnovel, mars, medallion, spacetravel, p...</td>\n",
       "      <td>[TaylorKitsch, LynnCollins, SamanthaMorton]</td>\n",
       "      <td>[AndrewStanton]</td>\n",
       "      <td>[John, Carter, is, a, war-weary,, former, mili...</td>\n",
       "    </tr>\n",
       "  </tbody>\n",
       "</table>\n",
       "</div>"
      ],
      "text/plain": [
       "   movie_id                                     title  \\\n",
       "0     19995                                    Avatar   \n",
       "1       285  Pirates of the Caribbean: At World's End   \n",
       "2    206647                                   Spectre   \n",
       "3     49026                     The Dark Knight Rises   \n",
       "4     49529                               John Carter   \n",
       "\n",
       "                                            overview  \\\n",
       "0  [In, the, 22nd, century,, a, paraplegic, Marin...   \n",
       "1  [Captain, Barbossa,, long, believed, to, be, d...   \n",
       "2  [A, cryptic, message, from, Bond’s, past, send...   \n",
       "3  [Following, the, death, of, District, Attorney...   \n",
       "4  [John, Carter, is, a, war-weary,, former, mili...   \n",
       "\n",
       "                                         genres  \\\n",
       "0  [Action, Adventure, Fantasy, ScienceFiction]   \n",
       "1                  [Adventure, Fantasy, Action]   \n",
       "2                    [Action, Adventure, Crime]   \n",
       "3              [Action, Crime, Drama, Thriller]   \n",
       "4           [Action, Adventure, ScienceFiction]   \n",
       "\n",
       "                                            keywords  \\\n",
       "0  [cultureclash, future, spacewar, spacecolony, ...   \n",
       "1  [ocean, drugabuse, exoticisland, eastindiatrad...   \n",
       "2  [spy, basedonnovel, secretagent, sequel, mi6, ...   \n",
       "3  [dccomics, crimefighter, terrorist, secretiden...   \n",
       "4  [basedonnovel, mars, medallion, spacetravel, p...   \n",
       "\n",
       "                                            cast                crew  \\\n",
       "0  [SamWorthington, ZoeSaldana, SigourneyWeaver]      [JamesCameron]   \n",
       "1     [JohnnyDepp, OrlandoBloom, KeiraKnightley]     [GoreVerbinski]   \n",
       "2      [DanielCraig, ChristophWaltz, LéaSeydoux]         [SamMendes]   \n",
       "3      [ChristianBale, MichaelCaine, GaryOldman]  [ChristopherNolan]   \n",
       "4    [TaylorKitsch, LynnCollins, SamanthaMorton]     [AndrewStanton]   \n",
       "\n",
       "                                                 tag  \n",
       "0  [In, the, 22nd, century,, a, paraplegic, Marin...  \n",
       "1  [Captain, Barbossa,, long, believed, to, be, d...  \n",
       "2  [A, cryptic, message, from, Bond’s, past, send...  \n",
       "3  [Following, the, death, of, District, Attorney...  \n",
       "4  [John, Carter, is, a, war-weary,, former, mili...  "
      ]
     },
     "execution_count": 25,
     "metadata": {},
     "output_type": "execute_result"
    }
   ],
   "source": [
    "movies.head()"
   ]
  },
  {
   "cell_type": "code",
   "execution_count": 26,
   "id": "0374172e-fb24-4c31-88da-8cc31f1ffc0c",
   "metadata": {},
   "outputs": [],
   "source": [
    "new_df=movies[['movie_id','title','tag']]"
   ]
  },
  {
   "cell_type": "markdown",
   "id": "872aa0ba-3df5-487e-a71f-c552402b4378",
   "metadata": {},
   "source": [
    "- **Purpose**: This cell creates a new dataframe named `new_df` that includes only the `movie_id`, `title`, and `tag` columns from the `movies` dataframe. This step is essential for focusing on the most relevant features needed for the recommendation process.\n",
    "\n",
    "- **Outcome**: After running this cell, the `new_df` dataframe will contain three columns: `movie_id`, `title`, and `tag`. This simplified structure is conducive to further processing and analysis in the recommendation system, making it easier to implement algorithms or perform operations that rely specifically on these key features."
   ]
  },
  {
   "cell_type": "code",
   "execution_count": 27,
   "id": "d69972be-3afe-4bf5-9669-0ff3ac31db2e",
   "metadata": {},
   "outputs": [
    {
     "name": "stderr",
     "output_type": "stream",
     "text": [
      "C:\\Users\\walia\\AppData\\Local\\Temp\\ipykernel_16964\\4079141722.py:1: SettingWithCopyWarning: \n",
      "A value is trying to be set on a copy of a slice from a DataFrame.\n",
      "Try using .loc[row_indexer,col_indexer] = value instead\n",
      "\n",
      "See the caveats in the documentation: https://pandas.pydata.org/pandas-docs/stable/user_guide/indexing.html#returning-a-view-versus-a-copy\n",
      "  new_df['tag']=new_df['tag'].apply(lambda x:\" \".join(x))\n"
     ]
    }
   ],
   "source": [
    "new_df['tag']=new_df['tag'].apply(lambda x:\" \".join(x))"
   ]
  },
  {
   "cell_type": "markdown",
   "id": "b6bfcce4-397c-434f-99bb-9f65abfb1191",
   "metadata": {},
   "source": [
    "- **Purpose**: This cell transforms the `tag` column in the `new_df` dataframe by joining the lists of words (created in previous steps) into single strings. This conversion is essential for preparing the data for text-based analysis or similarity comparisons, which typically require string inputs.\n",
    "\n",
    "- **Approach**: The code uses the `apply()` method from `pandas`, along with a `lambda` function. The `lambda` function takes each list in the `tag` column (`x`) and joins the elements into a single string using the `join()` method, with a space (`\" \"`) as the separator. This effectively concatenates the words in each list into a single, space-separated string.\n",
    "\n",
    "- **Outcome**: After running this cell, the `tag` column in the `new_df` dataframe will contain strings instead of lists. Each string will consist of the combined `overview`, `genres`, `keywords`, `cast`, and `crew` information for each movie. This format is much more suitable for text processing tasks, such as applying natural language processing techniques or calculating similarity scores for recommendation algorithms."
   ]
  },
  {
   "cell_type": "code",
   "execution_count": 28,
   "id": "5b34b77c-bbbf-4495-be4b-bb7e6be8ee1a",
   "metadata": {},
   "outputs": [
    {
     "name": "stderr",
     "output_type": "stream",
     "text": [
      "C:\\Users\\walia\\AppData\\Local\\Temp\\ipykernel_16964\\1740795540.py:1: SettingWithCopyWarning: \n",
      "A value is trying to be set on a copy of a slice from a DataFrame.\n",
      "Try using .loc[row_indexer,col_indexer] = value instead\n",
      "\n",
      "See the caveats in the documentation: https://pandas.pydata.org/pandas-docs/stable/user_guide/indexing.html#returning-a-view-versus-a-copy\n",
      "  new_df['tag']=new_df['tag'].apply(lambda x:x.lower())\n"
     ]
    }
   ],
   "source": [
    "new_df['tag']=new_df['tag'].apply(lambda x:x.lower())"
   ]
  },
  {
   "cell_type": "markdown",
   "id": "771513c1-4b1b-43ca-ab73-0181ac9fbf78",
   "metadata": {},
   "source": [
    "- **Purpose**: This cell transforms the `tag` column in the `new_df` dataframe by converting all the strings in that column to lowercase. This normalization step is important for ensuring consistency in text data, which helps improve the accuracy of text-based analyses and comparisons.\n",
    "\n",
    "- **Approach**: The code uses the `apply()` method from `pandas`, combined with a `lambda` function. The `lambda` function takes each string in the `tag` column (`x`) and converts it to lowercase using the `lower()` method.\n",
    "\n",
    "- **Outcome**: After running this cell, the `tag` column in the `new_df` dataframe will contain all lowercase strings. This uniformity makes the text data more manageable for subsequent operations, such as searching or calculating similarity scores, as it eliminates discrepancies caused by case sensitivity. Consequently, this prepares the data for more effective analysis in the recommendation system."
   ]
  },
  {
   "cell_type": "code",
   "execution_count": 29,
   "id": "f4ec90e6-791e-44ab-9fe2-f0f74513d5b5",
   "metadata": {},
   "outputs": [
    {
     "data": {
      "text/html": [
       "<div>\n",
       "<style scoped>\n",
       "    .dataframe tbody tr th:only-of-type {\n",
       "        vertical-align: middle;\n",
       "    }\n",
       "\n",
       "    .dataframe tbody tr th {\n",
       "        vertical-align: top;\n",
       "    }\n",
       "\n",
       "    .dataframe thead th {\n",
       "        text-align: right;\n",
       "    }\n",
       "</style>\n",
       "<table border=\"1\" class=\"dataframe\">\n",
       "  <thead>\n",
       "    <tr style=\"text-align: right;\">\n",
       "      <th></th>\n",
       "      <th>movie_id</th>\n",
       "      <th>title</th>\n",
       "      <th>tag</th>\n",
       "    </tr>\n",
       "  </thead>\n",
       "  <tbody>\n",
       "    <tr>\n",
       "      <th>0</th>\n",
       "      <td>19995</td>\n",
       "      <td>Avatar</td>\n",
       "      <td>in the 22nd century, a paraplegic marine is di...</td>\n",
       "    </tr>\n",
       "    <tr>\n",
       "      <th>1</th>\n",
       "      <td>285</td>\n",
       "      <td>Pirates of the Caribbean: At World's End</td>\n",
       "      <td>captain barbossa, long believed to be dead, ha...</td>\n",
       "    </tr>\n",
       "    <tr>\n",
       "      <th>2</th>\n",
       "      <td>206647</td>\n",
       "      <td>Spectre</td>\n",
       "      <td>a cryptic message from bond’s past sends him o...</td>\n",
       "    </tr>\n",
       "    <tr>\n",
       "      <th>3</th>\n",
       "      <td>49026</td>\n",
       "      <td>The Dark Knight Rises</td>\n",
       "      <td>following the death of district attorney harve...</td>\n",
       "    </tr>\n",
       "    <tr>\n",
       "      <th>4</th>\n",
       "      <td>49529</td>\n",
       "      <td>John Carter</td>\n",
       "      <td>john carter is a war-weary, former military ca...</td>\n",
       "    </tr>\n",
       "  </tbody>\n",
       "</table>\n",
       "</div>"
      ],
      "text/plain": [
       "   movie_id                                     title  \\\n",
       "0     19995                                    Avatar   \n",
       "1       285  Pirates of the Caribbean: At World's End   \n",
       "2    206647                                   Spectre   \n",
       "3     49026                     The Dark Knight Rises   \n",
       "4     49529                               John Carter   \n",
       "\n",
       "                                                 tag  \n",
       "0  in the 22nd century, a paraplegic marine is di...  \n",
       "1  captain barbossa, long believed to be dead, ha...  \n",
       "2  a cryptic message from bond’s past sends him o...  \n",
       "3  following the death of district attorney harve...  \n",
       "4  john carter is a war-weary, former military ca...  "
      ]
     },
     "execution_count": 29,
     "metadata": {},
     "output_type": "execute_result"
    }
   ],
   "source": [
    "new_df.head()"
   ]
  },
  {
   "cell_type": "code",
   "execution_count": 30,
   "id": "f67da37e-c5b2-4da3-b121-101f3ba5a650",
   "metadata": {},
   "outputs": [],
   "source": [
    "#steming\n",
    "import nltk"
   ]
  },
  {
   "cell_type": "markdown",
   "id": "53a4981a-4410-4c9c-9d5a-4e0f4ab52b7d",
   "metadata": {},
   "source": [
    "### Explanation\n",
    "This cell performs a key step in the movie recommendation process.\n",
    "- **Purpose**: This cell imports the Natural Language Toolkit (NLTK) library, which is a powerful tool for working with human language data (text) in Python. Importing NLTK is a preliminary step for performing various natural language processing (NLP) tasks, such as stemming, tokenization, and text analysis."
   ]
  },
  {
   "cell_type": "code",
   "execution_count": 31,
   "id": "4f836a21-f78e-4766-8374-7d6493f60f5c",
   "metadata": {},
   "outputs": [],
   "source": [
    "from nltk.stem.porter import PorterStemmer\n",
    "ps=PorterStemmer()"
   ]
  },
  {
   "cell_type": "markdown",
   "id": "15c1fea1-1662-485e-b474-4f42b1467e5a",
   "metadata": {},
   "source": [
    "- **Purpose**: This cell imports the `PorterStemmer` class from the NLTK library and creates an instance of it. The purpose of stemming is to reduce words to their root form, which helps in standardizing text data by treating different forms of a word as the same base word.\n",
    "\n",
    "- **Approach**: \n",
    "  - The code uses the `from ... import ...` statement to specifically import the `PorterStemmer` class from the `nltk.stem.porter` module.\n",
    "  - It then creates an instance of `PorterStemmer` and assigns it to the variable `ps`. This instance will be used to perform stemming operations on the text data.\n",
    "\n",
    "- **Outcome**: After running this cell, the `ps` variable holds an instance of the `PorterStemmer`, which can be used in subsequent code cells to stem words in the `tag` column or any other text data. This will help in normalizing the text data by reducing words to their root forms, thus enhancing the effectiveness of text-based analyses, such as calculating similarities or building the recommendation system."
   ]
  },
  {
   "cell_type": "code",
   "execution_count": 32,
   "id": "462b1cc3-e2e4-41c6-a111-1e4ccf1170b9",
   "metadata": {},
   "outputs": [],
   "source": [
    "def stem(text):\n",
    "    y=[]\n",
    "    for i in text.split():\n",
    "         y.append(ps.stem(i))\n",
    "\n",
    "    return \" \".join(y)"
   ]
  },
  {
   "cell_type": "markdown",
   "id": "dd221eee-7c16-412c-9b5c-76c9cc6fa03d",
   "metadata": {},
   "source": [
    "- **Purpose**: This cell defines a function named `stem`, which takes a string of text as input and returns a new string where each word has been reduced to its root form using stemming. This process is crucial for normalizing text data, making it more suitable for analysis in the recommendation system.\n",
    "\n",
    "- **Approach**:\n",
    "  - The function takes one parameter, `text`, which is expected to be a string.\n",
    "  - It initializes an empty list `y` to store the stemmed words.\n",
    "  - The function splits the input `text` into individual words using the `split()` method.\n",
    "  - It iterates over each word `i` in the split text:\n",
    "    - For each word, it applies the `stem()` method from the `PorterStemmer` instance (`ps`) to reduce the word to its root form and appends the stemmed word to the list `y`.\n",
    "  - Finally, the function joins the stemmed words in `y` back into a single string with spaces between them using `\" \".join(y)` and returns this string.\n",
    "\n",
    "- **Outcome**: After defining this function, it can be used to process the `tag` column or any other text data, transforming each entry into a normalized format where words are reduced to their stems. This normalization helps in improving the accuracy of text analysis and recommendation algorithms by focusing on the core meanings of words rather than their variations."
   ]
  },
  {
   "cell_type": "code",
   "execution_count": 33,
   "id": "f0b0472f-695d-467a-ae4d-f62f1cf356c1",
   "metadata": {},
   "outputs": [
    {
     "name": "stderr",
     "output_type": "stream",
     "text": [
      "C:\\Users\\walia\\AppData\\Local\\Temp\\ipykernel_16964\\599176683.py:1: SettingWithCopyWarning: \n",
      "A value is trying to be set on a copy of a slice from a DataFrame.\n",
      "Try using .loc[row_indexer,col_indexer] = value instead\n",
      "\n",
      "See the caveats in the documentation: https://pandas.pydata.org/pandas-docs/stable/user_guide/indexing.html#returning-a-view-versus-a-copy\n",
      "  new_df['tag']=new_df['tag'].apply(stem)\n"
     ]
    }
   ],
   "source": [
    "new_df['tag']=new_df['tag'].apply(stem)"
   ]
  },
  {
   "cell_type": "markdown",
   "id": "e14c8591-3364-4345-8b8b-a1ba5397707d",
   "metadata": {},
   "source": [
    "- **Purpose**: This cell applies the previously defined `stem` function to the `tag` column of the `new_df` dataframe. The goal is to normalize the text data by reducing each word in the tags to its root form through stemming, which enhances the data's usability in text analysis and recommendation processes.\n",
    "\n",
    "- **Outcome**: After running this cell, the `tag` column in the `new_df` dataframe will contain strings where each word has been reduced to its root form. This transformation leads to a more standardized representation of the text data, making it easier to perform text analysis and improve the effectiveness of recommendation algorithms. By focusing on the stemmed words, the recommendation system can more accurately match similar movies based on the consolidated attributes in the `tag` column."
   ]
  },
  {
   "cell_type": "code",
   "execution_count": 34,
   "id": "669a5e0d-b0f8-4953-8bfe-0741dc12e3e3",
   "metadata": {},
   "outputs": [
    {
     "data": {
      "text/plain": [
       "'in the 22nd century, a parapleg marin is dispatch to the moon pandora on a uniqu mission, but becom torn between follow order and protect an alien civilization. action adventur fantasi sciencefict cultureclash futur spacewar spacecoloni societi spacetravel futurist romanc space alien tribe alienplanet cgi marin soldier battl loveaffair antiwar powerrel mindandsoul 3d samworthington zoesaldana sigourneyweav jamescameron'"
      ]
     },
     "execution_count": 34,
     "metadata": {},
     "output_type": "execute_result"
    }
   ],
   "source": [
    "new_df['tag'][0]"
   ]
  },
  {
   "cell_type": "markdown",
   "id": "75de94a5-fc80-487f-8eae-ee880b5ff7f3",
   "metadata": {},
   "source": [
    "- **Purpose**: This cell retrieves and displays the first entry in the `tag` column of the `new_df` dataframe. It serves as a quick check to verify the content and format of the `tag` data after the transformations and stemming have been applied.\n",
    "\n",
    "- **Outcome**: After running this cell, the output will be the first entry in the `tag` column, which should now contain a string of stemmed words representing the movie's overview, genres, keywords, cast, and crew. This output helps to confirm that the stemming process has been executed correctly and that the data is in the expected format, providing a glimpse into how the data looks before proceeding with further analysis or recommendation processes."
   ]
  },
  {
   "cell_type": "code",
   "execution_count": 35,
   "id": "9050c341-4056-45e4-a590-1f41c4ca0003",
   "metadata": {},
   "outputs": [],
   "source": [
    "# Vectorization: Bag of words\n",
    "from sklearn.feature_extraction.text import CountVectorizer\n",
    "cv=CountVectorizer(max_features=5000,stop_words='english')"
   ]
  },
  {
   "cell_type": "markdown",
   "id": "dcdd9d82-96aa-4313-b16f-2a9f631fd74c",
   "metadata": {},
   "source": [
    "- **Purpose**: This cell sets up the `CountVectorizer` from the `sklearn.feature_extraction.text` module, which will be used to convert the text data in the `tag` column into a numerical format. Specifically, it transforms the text into a \"Bag of Words\" representation, where each unique word is represented as a feature, and the count of each word in the text is recorded. This transformation is crucial for enabling machine learning algorithms to process the textual data.\n",
    "\n",
    "- **Approach**:\n",
    "  - The code imports the `CountVectorizer` class.\n",
    "  - An instance of `CountVectorizer` is created and assigned to the variable `cv`. The parameters specified include:\n",
    "    - `max_features=5000`: This limits the number of unique words (features) to the top 5000 most frequent words across the dataset. This parameter helps manage dimensionality, ensuring that the model focuses on the most significant features.\n",
    "    - `stop_words='english'`: This parameter instructs the vectorizer to ignore common English words (stop words) that typically do not carry significant meaning, such as \"the,\" \"is,\" and \"in.\" This helps improve the model's performance by reducing noise in the data.\n",
    "\n",
    "- **Outcome**: After running this cell, the `cv` variable holds an instance of `CountVectorizer` configured to process text data with the specified parameters. This setup is now ready to transform the text data from the `tag` column into a numerical format, enabling further analysis or feeding into machine learning algorithms for the movie recommendation system."
   ]
  },
  {
   "cell_type": "code",
   "execution_count": 36,
   "id": "11916c69-969a-483d-b2f1-547490f8af1e",
   "metadata": {},
   "outputs": [],
   "source": [
    "vectors=cv.fit_transform(new_df['tag']).toarray()"
   ]
  },
  {
   "cell_type": "markdown",
   "id": "ab603628-fe78-4b0d-9b6e-67f0dbaa80dc",
   "metadata": {},
   "source": [
    "Here's the breakdown:\n",
    "\n",
    "- **Purpose**: This cell uses the previously defined `CountVectorizer` instance (`cv`) to convert the text data in the `tag` column of the `new_df` dataframe into a numerical format. The resulting output is a matrix where each row corresponds to a movie and each column corresponds to a unique word from the top 5000 features.\n",
    "\n",
    "- **Approach**:\n",
    "  - The `fit_transform()` method is called on the `cv` instance, passing the `tag` column from `new_df` as the argument. This method performs two operations:\n",
    "    - **Fit**: It learns the vocabulary from the text data, identifying the top 5000 most frequent words and building a mapping of words to feature indices.\n",
    "    - **Transform**: It converts the text data into a numerical format (Bag of Words representation), where each entry in the matrix represents the count of words corresponding to each feature for each movie.\n",
    "  - The output of `fit_transform()` is converted to a dense array using the `toarray()` method, which creates a 2D NumPy array.\n",
    "\n",
    "\n",
    "- **Outcome**: After running this cell, the variable `vectors` will contain a 2D array where each row represents a movie and each column corresponds to a specific word in the vocabulary. The values in the array indicate the count of each word in the respective movie's `tag`. This numerical representation is essential for further analysis, such as calculating similarities between movies or training machine learning models for the recommendation system."
   ]
  },
  {
   "cell_type": "code",
   "execution_count": 37,
   "id": "c3c7c6af-f3ca-4e89-b415-2783b00f206b",
   "metadata": {},
   "outputs": [
    {
     "data": {
      "text/plain": [
       "array([0, 0, 0, ..., 0, 0, 0], dtype=int64)"
      ]
     },
     "execution_count": 37,
     "metadata": {},
     "output_type": "execute_result"
    }
   ],
   "source": [
    "vectors[0]"
   ]
  },
  {
   "cell_type": "markdown",
   "id": "7e154296-52dc-475e-8ccf-7b9438de5379",
   "metadata": {},
   "source": [
    "Here's the breakdown:\n",
    "\n",
    "- **Purpose**: This cell retrieves and displays the first row of the `vectors` array. Each row corresponds to a movie in the `new_df` dataframe, and the values in the row represent the counts of the words (features) identified by the `CountVectorizer` in that movie's `tag`. This step allows for a quick examination of the numerical representation of the text data for the first movie.\n",
    "\n",
    "- **Outcome**: After running this cell, the output will be a NumPy array representing the word counts for the first movie in the `tag` column. Each element in this array corresponds to the count of a specific word from the vocabulary defined by the `CountVectorizer`. This output provides insight into how the text data has been transformed into a numerical format, showing the distribution of words in the `tag` for the first movie, which can help in understanding the feature representation for subsequent analysis and modeling in the recommendation system."
   ]
  },
  {
   "cell_type": "code",
   "execution_count": 38,
   "id": "63cbe627-ed54-420d-b62d-1c276bf83f6c",
   "metadata": {},
   "outputs": [
    {
     "data": {
      "text/plain": [
       "5000"
      ]
     },
     "execution_count": 38,
     "metadata": {},
     "output_type": "execute_result"
    }
   ],
   "source": [
    "len(cv.get_feature_names_out())"
   ]
  },
  {
   "cell_type": "markdown",
   "id": "061882ee-5fbe-4b32-b5d2-8c8cda92b052",
   "metadata": {},
   "source": [
    "Here's the breakdown:\n",
    "\n",
    "- **Purpose**: This cell calculates and displays the number of unique features (words) that were extracted from the text data using the `CountVectorizer`. This information is important for understanding the dimensionality of the dataset and how many distinct words will be used as input features for further analysis or modeling.\n",
    "\n",
    "- **Outcome**: After running this cell, the output will be an integer representing the total number of unique words (features) that have been extracted from the `tag` column. This number indicates the size of the feature set used in the Bag of Words representation, which is crucial for understanding the complexity of the dataset and the potential computational requirements for any subsequent machine learning processes or analyses."
   ]
  },
  {
   "cell_type": "markdown",
   "id": "5acebf97-084e-49a1-abb0-5a1133340561",
   "metadata": {},
   "source": [
    "### Every movie converted into vector"
   ]
  },
  {
   "cell_type": "code",
   "execution_count": 39,
   "id": "a9a21347-507d-41dc-8826-a42c3a499f45",
   "metadata": {},
   "outputs": [],
   "source": [
    "from sklearn.metrics.pairwise import cosine_similarity"
   ]
  },
  {
   "cell_type": "markdown",
   "id": "6d5986c7-a802-4558-a8c4-7d6eace0efa4",
   "metadata": {},
   "source": [
    "- **Purpose**: This cell imports the `cosine_similarity` function from the `sklearn.metrics.pairwise` module. This function is essential for calculating the cosine similarity between two or more vectors, which will be used to determine how similar different movies are based on their `tag` representations.\n",
    "\n",
    "- **Outcome**: After running this cell, the `cosine_similarity` function is available for use. In the context of the movie recommendation system, it will be employed to compute the similarity between the numerical representations (vectors) of different movies. Cosine similarity is a widely used metric in recommendation systems, as it measures the cosine of the angle between two vectors, providing a value that ranges from -1 (completely dissimilar) to 1 (identical). This measure will help identify and recommend movies that are similar to each other based on the features extracted from the `tag` column."
   ]
  },
  {
   "cell_type": "code",
   "execution_count": 40,
   "id": "083b2eb3-2587-43d6-be8d-9559660fbb03",
   "metadata": {},
   "outputs": [],
   "source": [
    "similarity=cosine_similarity(vectors)"
   ]
  },
  {
   "cell_type": "markdown",
   "id": "e266e8f3-129e-4461-8e9d-24db2cc212f9",
   "metadata": {},
   "source": [
    "- **Purpose**: This cell calculates the cosine similarity matrix for all the movies based on their vectorized `tag` representations. The similarity matrix is crucial for identifying how similar each movie is to every other movie in the dataset, which is a key component of the recommendation system.\n",
    "\n",
    "- **Outcome**: After running this cell, the variable `similarity` will contain a 2D array (matrix) where each entry indicates the similarity score between a pair of movies. The diagonal elements of the matrix will all be 1, as each movie is identical to itself. This similarity matrix can be used to find and recommend movies that are similar to a given movie, facilitating the core functionality of the movie recommendation system."
   ]
  },
  {
   "cell_type": "code",
   "execution_count": 41,
   "id": "53253a3a-4fc8-4215-b45a-7fdc394f7953",
   "metadata": {},
   "outputs": [
    {
     "data": {
      "text/plain": [
       "[(1216, 0.2867696673382022),\n",
       " (2409, 0.26901379342448517),\n",
       " (3730, 0.2605130246476754),\n",
       " (507, 0.255608593705383),\n",
       " (539, 0.25038669783359574)]"
      ]
     },
     "execution_count": 41,
     "metadata": {},
     "output_type": "execute_result"
    }
   ],
   "source": [
    "sorted(list(enumerate(similarity[0])),reverse=True,key=lambda x:x[1])[1:6]"
   ]
  },
  {
   "cell_type": "markdown",
   "id": "4835ddf2-657a-4427-98a4-e139cae7b7b5",
   "metadata": {},
   "source": [
    "- **Purpose**: This cell retrieves and ranks the top five most similar movies to the first movie in the dataset based on the cosine similarity scores calculated in the previous step. This is a critical step in generating recommendations for a specific movie.\n",
    "\n",
    "- **Approach**:\n",
    "  - The code uses `enumerate()` to pair each index (representing a movie) with its corresponding similarity score from the first row of the `similarity` matrix (`similarity[0]`), which contains the similarity scores between the first movie and all other movies.\n",
    "  - The `list()` function converts the enumerated object into a list of tuples, where each tuple consists of a movie index and its similarity score.\n",
    "  - The `sorted()` function is then applied to this list, with the following parameters:\n",
    "    - `reverse=True`: This sorts the list in descending order, so that higher similarity scores appear first.\n",
    "    - `key=lambda x: x[1]`: This specifies that the sorting should be based on the second element of each tuple (the similarity score).\n",
    "  - The slice `[1:6]` is used to exclude the first element (the first movie itself, which will have a similarity score of 1) and select the next five most similar movies.\n",
    "\n",
    "- **Outcome**: After running this cell, the output will be a list of tuples, where each tuple contains an index and the corresponding similarity score for the top five movies that are most similar to the first movie. This information can be used to recommend these similar movies to users, forming a key aspect of the recommendation functionality within the system."
   ]
  },
  {
   "cell_type": "code",
   "execution_count": 42,
   "id": "ca68dcb1-689e-420c-9a38-c1df07b53762",
   "metadata": {},
   "outputs": [],
   "source": [
    "def recommend(movie):\n",
    "    movie_index=new_df[new_df['title']==movie].index[0]\n",
    "    distances=similarity[movie_index]\n",
    "    movies_list=sorted(list(enumerate(distances)),reverse=True,key=lambda x:x[1])[1:6]\n",
    "    for i in movies_list:\n",
    "        print(new_df.iloc[i[0]].title)"
   ]
  },
  {
   "cell_type": "markdown",
   "id": "bc854a69-11ee-43eb-817d-79134cc7e260",
   "metadata": {},
   "source": [
    "- **Purpose**: This cell defines a function named `recommend` that takes a movie title as input and recommends the top five movies that are most similar to the given movie based on the cosine similarity scores. This function encapsulates the recommendation logic for easy reuse.\n",
    "\n",
    "- **Approach**:\n",
    "  - The function takes one parameter, `movie`, which is the title of the movie for which recommendations are to be generated.\n",
    "  - It retrieves the index of the input movie from the `new_df` dataframe using the condition `new_df['title'] == movie`. The `index[0]` is used to access the first matching index (in case there are duplicates).\n",
    "  - The similarity scores for the specified movie are extracted from the `similarity` matrix using the retrieved index (`similarity[movie_index]`).\n",
    "  - The similarity scores are then enumerated and sorted in descending order to rank the movies based on similarity. The same sorting method used previously is applied, excluding the first element (the movie itself) and selecting the next five most similar movies.\n",
    "  - Finally, the function iterates over the sorted list of similar movies (`movies_list`) and prints the titles of the recommended movies. The `iloc` method is used to access the movie titles based on their indices.\n",
    "\n",
    "- **Outcome**: After defining this function, calling `recommend(movie_name)` with a specific movie title will output the titles of the top five recommended movies that are most similar to the input movie. This functionality allows users to receive tailored movie suggestions based on their preferences, forming the core of the movie recommendation system."
   ]
  },
  {
   "cell_type": "code",
   "execution_count": 43,
   "id": "ddf9c197-e4e6-4f3f-b481-78f050cbffe2",
   "metadata": {},
   "outputs": [
    {
     "name": "stdout",
     "output_type": "stream",
     "text": [
      "Prison\n",
      "Penitentiary\n",
      "Buffalo '66\n",
      "The Truman Show\n",
      "Flying By\n"
     ]
    }
   ],
   "source": [
    "recommend('The Shawshank Redemption')"
   ]
  },
  {
   "cell_type": "markdown",
   "id": "2651ceef-062d-4689-b963-3fb00f2343b7",
   "metadata": {},
   "source": [
    "Here's the breakdown:\n",
    "\n",
    "- **Purpose**: This cell calls the previously defined `recommend` function, passing in the title \"The Shawshank Redemption\" as the input. The goal is to generate and display the top five movie recommendations that are most similar to \"The Shawshank Redemption\" based on the cosine similarity scores.\n",
    "\n",
    "- **Approach**: \n",
    "  - The function call `recommend('The Shawshank Redemption')` triggers the execution of the `recommend` function with the specified movie title.\n",
    "  - Inside the `recommend` function, the following steps occur:\n",
    "    - The index of \"The Shawshank Redemption\" is retrieved from the `new_df` dataframe.\n",
    "    - The similarity scores for this movie are extracted from the `similarity` matrix.\n",
    "    - These scores are then sorted to identify the top five most similar movies, excluding \"The Shawshank Redemption\" itself.\n",
    "    - The titles of these recommended movies are printed to the console.\n",
    "\n",
    "- **Outcome**: After executing this cell, the output will be the titles of the five movies that are most similar to \"The Shawshank Redemption,\" based on the defined similarity criteria. This output provides personalized movie suggestions to the user, showcasing the functionality of the movie recommendation system in action. The recommended titles are printed in the order of their similarity to the input movie, allowing users to discover films they might enjoy based on their preferences."
   ]
  },
  {
   "cell_type": "code",
   "execution_count": 44,
   "id": "2f911b1a-8632-44b4-be39-2f18692f5cc4",
   "metadata": {},
   "outputs": [
    {
     "name": "stdout",
     "output_type": "stream",
     "text": [
      "The Dark Knight Rises\n",
      "Batman Begins\n",
      "Batman Returns\n",
      "Batman Forever\n",
      "Batman\n"
     ]
    }
   ],
   "source": [
    "recommend('The Dark Knight')"
   ]
  },
  {
   "cell_type": "markdown",
   "id": "64d1579e-3f44-475e-b2e5-b2625ff3690d",
   "metadata": {},
   "source": [
    "Here's the breakdown:\n",
    "\n",
    "- **Purpose**: This cell calls the previously defined `recommend` function, passing in the title \"The Dark Knight\" as the input. The goal is to generate and display the top five movie recommendations that are most similar to \"The Dark Knight\" based on the cosine similarity scores.\n",
    "\n",
    "- **Approach**: \n",
    "  - The function call `recommend('The Dark Knight')` triggers the execution of the `recommend` function with the specified movie title.\n",
    "  - Inside the `recommend` function, the following steps occur:\n",
    "    - The index of \"The Dark Knight\" is retrieved from the `new_df` dataframe, which contains the processed movie data.\n",
    "    - The similarity scores for this movie are extracted from the `similarity` matrix, which was calculated earlier.\n",
    "    - These similarity scores are sorted to identify the top five most similar movies, excluding \"The Dark Knight\" itself.\n",
    "    - The titles of these recommended movies are printed to the console.\n",
    "\n",
    "- **Outcome**: After executing this cell, the output will be the titles of the five movies that are most similar to \"The Dark Knight,\" based on the defined similarity criteria. This output provides personalized movie suggestions to the user, demonstrating the functionality of the movie recommendation system. The recommended titles are printed in order of their similarity to \"The Dark Knight,\" allowing users to discover films they may enjoy based on their viewing preferences."
   ]
  },
  {
   "cell_type": "code",
   "execution_count": 45,
   "id": "fed2ca5c-93aa-4f08-9887-f6d60dc128f3",
   "metadata": {},
   "outputs": [
    {
     "name": "stdout",
     "output_type": "stream",
     "text": [
      "Iron Man 3\n",
      "Avengers: Age of Ultron\n",
      "Captain America: Civil War\n",
      "Captain America: The First Avenger\n",
      "Iron Man\n"
     ]
    }
   ],
   "source": [
    "recommend('The Avengers')"
   ]
  },
  {
   "cell_type": "code",
   "execution_count": 46,
   "id": "ffbbc469-cc49-437c-b8f5-bb446aacef08",
   "metadata": {},
   "outputs": [],
   "source": [
    "import pickle "
   ]
  },
  {
   "cell_type": "markdown",
   "id": "2651d6a3-78fe-4f42-814d-fc1ed1f7cbdf",
   "metadata": {},
   "source": [
    "- **Purpose**: This cell imports the `pickle` module, which is a standard Python library used for serializing and deserializing Python object structures. The goal of importing `pickle` is to enable the saving and loading of complex data types (like models or datasets) to and from files, which can be useful for persisting state or sharing data between sessions.\n",
    "\n",
    "- **Outcome**: After executing this cell, you will have access to the functionality provided by the `pickle` module, allowing you to serialize Python objects (e.g., trained machine learning models, DataFrames, or lists) for later use. This is particularly useful for saving the state of your application or for sharing data with others without needing to reprocess it each time you run your code. For example, after training a model, you can save it using `pickle` and later load it back without needing to retrain."
   ]
  },
  {
   "cell_type": "code",
   "execution_count": 47,
   "id": "f1977f8e-47fd-4c65-bf27-f564b5e68a8b",
   "metadata": {},
   "outputs": [],
   "source": [
    "pickle.dump(new_df,open('movies_dict.pkl','wb'))"
   ]
  },
  {
   "cell_type": "markdown",
   "id": "426f0099-516e-41ad-b87e-c07f8dfa850b",
   "metadata": {},
   "source": [
    "\r\n",
    "- **Purpose**: This cell saves the `new_df` DataFrame to a file named `movies_dict.pkl`. The goal is to serialize the DataFrame, allowing it to be easily stored and later retrieved without needing to regenerate or reprocess the data.\r\n",
    "\r\n",
    "- **Approach**:\r\n",
    "  - The code uses the `pickle.dump()` function, which is part of the `pickle` module imported earlier.\r\n",
    "  - The first argument to `pickle.dump()` is the object to be saved, in this case, `new_df`, which is the DataFrame containing processed movie data.\r\n",
    "  - The second argument is an open file object created with `open('movies_dict.pkl', 'wb')`, where:\r\n",
    "    - `'movies_dict.pkl'` is the name of the file where the DataFrame will be saved.\r\n",
    "    - `'wb'` indicates that the file should be opened in write-binary mode, which is necessary for writing serialized data.\r\n",
    "  \r\n",
    "- **Outcome**: After executing this cell, the `new_df` DataFrame will be saved as a binary file named `movies_dict.pkl` in the current working directory. This serialized file can later be loaded back into a Python program using `pickle.load()`, restoring the original DataFrame for further analysis or use without needing to reload or process the data from scratch. This is particularly useful for saving intermediate results in a data processing pipeline or for deploying models in a production environment."
   ]
  },
  {
   "cell_type": "code",
   "execution_count": 48,
   "id": "eae8ee0e-4232-4020-93ad-631cf79c46e0",
   "metadata": {},
   "outputs": [
    {
     "data": {
      "text/plain": [
       "array(['Avatar', \"Pirates of the Caribbean: At World's End\", 'Spectre',\n",
       "       ..., 'Signed, Sealed, Delivered', 'Shanghai Calling',\n",
       "       'My Date with Drew'], dtype=object)"
      ]
     },
     "execution_count": 48,
     "metadata": {},
     "output_type": "execute_result"
    }
   ],
   "source": [
    "new_df['title'].values"
   ]
  },
  {
   "cell_type": "markdown",
   "id": "8a730100-5b61-4a5f-aa68-f2afb35f623c",
   "metadata": {},
   "source": [
    "\r\n",
    "- **Purpose**: This cell retrieves the titles of the movies from the `new_df` DataFrame as a NumPy array. The goal is to obtain a simple, iterable representation of the movie titles for use in further processing or analysis.\r\n",
    "\r\n",
    "- **Approach**:\r\n",
    "  - The code accesses the `title` column of the `new_df` DataFrame using `new_df['title']`.\r\n",
    "  - The `values` attribute is then called on this Series to convert it into a NumPy array. This transformation allows for efficient numerical operations and manipulation, as NumPy arrays are optimized for performance in Python.\r\n",
    "\r\n",
    "- **Outcome**: After executing this cell, the variable will hold a NumPy array containing all the movie titles from the `new_df` DataFrame. This array can be used for various purposes, such as displaying the titles, creating user interfaces, or conducting further analysis (e.g., matching user input against the available movie titles in the recommendation system). By extracting the titles in this manner, you can easily iterate over them or perform operations that require a list of strings."
   ]
  },
  {
   "cell_type": "code",
   "execution_count": 49,
   "id": "2be77657-6644-4747-895c-1fc501d9cd76",
   "metadata": {},
   "outputs": [],
   "source": [
    "pickle.dump(new_df,open('movie_list.pkl','wb'))\n",
    "pickle.dump(similarity,open('similarity.pkl','wb'))"
   ]
  },
  {
   "cell_type": "markdown",
   "id": "c34b167a-d52f-440e-a0c4-f58386eb9b1a",
   "metadata": {},
   "source": [
    "\r\n",
    "- **Purpose**: This cell saves two important components of the movie recommendation system: the `new_df` DataFrame and the `similarity` matrix. The goal is to serialize both objects, allowing for efficient storage and easy retrieval in future sessions without needing to recompute or reload the data.\r\n",
    "\r\n",
    "- **Approach**:\r\n",
    "  - The first line uses `pickle.dump()` to save the `new_df` DataFrame:\r\n",
    "    - `new_df` is the DataFrame that contains processed movie data, including titles, tags, and other features.\r\n",
    "    - The file is opened in write-binary mode (`'wb'`) as `movie_list.pkl`, where this file will store the serialized DataFrame.\r\n",
    "  \r\n",
    "  - The second line uses `pickle.dump()` to save the `similarity` matrix:\r\n",
    "    - `similarity` is a matrix that contains cosine similarity scores between movies, which is crucial for the recommendation process.\r\n",
    "    - This file is opened in write-binary mode (`'wb'`) as `similarity.pkl`, where this file will store the serialized similarity matrix.\r\n",
    "\r\n",
    "- **Outcome**: After executing this cell, two binary files will be created in the current working directory:\r\n",
    "  - `movie_list.pkl`: Contains the serialized `new_df` DataFrame, allowing it to be loaded back into memory later.\r\n",
    "  - `similarity.pkl`: Contains the serialized `similarity` matrix, enabling quick access to the similarity data for recommendations.\r\n",
    "\r\n",
    "By saving these objects, you ensure that the current state of the movie recommendation system can be restored quickly in the future, facilitating smoother operation, quicker testing, and enhanced usability of the system without the need for reprocessing the initial data or recalculating similarity scores."
   ]
  },
  {
   "cell_type": "markdown",
   "id": "e05d6999-02ff-4a7a-84f8-de00821f4dd3",
   "metadata": {},
   "source": [
    "# The END!!"
   ]
  }
 ],
 "metadata": {
  "kernelspec": {
   "display_name": "Python 3 (ipykernel)",
   "language": "python",
   "name": "python3"
  },
  "language_info": {
   "codemirror_mode": {
    "name": "ipython",
    "version": 3
   },
   "file_extension": ".py",
   "mimetype": "text/x-python",
   "name": "python",
   "nbconvert_exporter": "python",
   "pygments_lexer": "ipython3",
   "version": "3.11.7"
  }
 },
 "nbformat": 4,
 "nbformat_minor": 5
}
